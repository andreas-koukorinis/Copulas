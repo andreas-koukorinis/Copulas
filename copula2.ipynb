{
 "cells": [
  {
   "cell_type": "code",
   "execution_count": 7,
   "metadata": {
    "collapsed": false
   },
   "outputs": [],
   "source": [
    "from __future__ import division, print_function\n",
    "from pandas.io.data import DataReader\n",
    "from datetime import datetime\n",
    "from scipy.optimize import fmin\n",
    "from decimal import Decimal\n",
    "import numpy as np\n",
    "import pandas as pd\n",
    "import matplotlib.pylab as plt"
   ]
  },
  {
   "cell_type": "code",
   "execution_count": 8,
   "metadata": {
    "collapsed": true
   },
   "outputs": [],
   "source": [
    "inf = Decimal('Infinity')\n",
    "neginf = Decimal('-Infinity')"
   ]
  },
  {
   "cell_type": "code",
   "execution_count": 15,
   "metadata": {
    "collapsed": false
   },
   "outputs": [],
   "source": [
    "def gausspdf(x, args):\n",
    "    mu = args[0]\n",
    "    if len(args) == 2:\n",
    "        sigma= args[1]\n",
    "    else:\n",
    "        sigma = 1\n",
    "    return np.exp(-(x-mu)**2/(2*sigma**2))/(np.sqrt(2*np.pi)*sigma)\n",
    "\n",
    "def loglikelihood(pdf, x, parameters):\n",
    "    \"\"\"\"minus log likelihood of a model pdf, given the data sample x\"\"\"\n",
    "    return -np.sum(np.log(pdf(x, parameters))) #calls the above function"
   ]
  },
  {
   "cell_type": "code",
   "execution_count": 10,
   "metadata": {
    "collapsed": true
   },
   "outputs": [],
   "source": [
    "def fitpdf(x,pdf,parameterlist,lb,ub):\n",
    "    \"\"\"Maximum likelihood fit for pdf.\"\"\"\n",
    "\n",
    "    def f(parameterlist):\n",
    "        return loglikelihood(pdf, x, parameterlist)\n",
    "    \n",
    "    minparam = fmin(f, parameterlist, xtol= 1e-8, disp=0)\n",
    "    llh = -f(minparam)\n",
    "    \n",
    "    return llh, minparam"
   ]
  },
  {
   "cell_type": "code",
   "execution_count": 17,
   "metadata": {
    "collapsed": true
   },
   "outputs": [],
   "source": [
    "from scipy.optimize import fminbound\n",
    "\n",
    "def fitpdf2(x,pdf,parameterlist,lb,ub):\n",
    "    \"\"\"Sometimes the optimisation procedure leads to Urealistic  parameter estimates, \n",
    "       therefore we uses a bounded optimisation procedure.\n",
    "       \n",
    "       However, in scipy, the bounded optimisation can only handle one variable so we \n",
    "       fix one of the parameters when we call it\"\"\"\n",
    "    \n",
    "    def f(parameterlist):\n",
    "        return loglikelihood(pdf, x, parameterlist)\n",
    "    \n",
    "    minparam= fminbound(f, lb, ub, xtol= 1e-8, disp=0)\n",
    "    llh = -f(minparam)\n",
    "    return llh, minparam"
   ]
  },
  {
   "cell_type": "code",
   "execution_count": 19,
   "metadata": {
    "collapsed": false
   },
   "outputs": [
    {
     "name": "stdout",
     "output_type": "stream",
     "text": [
      "[10, 3]\n",
      "[ 10.   3.]\n",
      "[ 10.5   3. ]\n",
      "[ 10.     3.15]\n",
      "[ 9.5   3.15]\n",
      "[ 10.25     3.0375]\n",
      "[ 10.25     2.8875]\n",
      "[ 10.1875     2.953125]\n",
      "[ 9.9375    2.915625]\n",
      "[ 10.171875     3.00703125]\n",
      "[ 10.359375     2.96015625]\n",
      "[ 10.08984375   2.99003906]\n",
      "[ 10.10546875   2.93613281]\n",
      "[ 10.0078125    2.97304688]\n",
      "[ 10.14257812   2.95810547]\n",
      "[ 10.12695312   3.01201172]\n",
      "[ 10.11083984   2.95510254]\n",
      "[ 10.16357422   2.92316895]\n",
      "[ 10.10827637   2.97332153]\n",
      "[ 10.14001465   2.97632446]\n",
      "[ 10.15460205   2.98693542]\n",
      "[ 10.10571289   2.99154053]\n",
      "[ 10.13336182   2.96646423]\n",
      "[ 10.1651001    2.96946716]\n",
      "[ 10.1224823    2.97235794]\n",
      "[ 10.11582947   2.96249771]\n",
      "[ 10.13396835   2.97286777]\n",
      "[ 10.14484787   2.96697407]\n",
      "[ 10.12807369   2.97101197]\n",
      "[ 10.12868023   2.97741551]\n",
      "[ 10.13219142   2.96920205]\n",
      "[ 10.12629676   2.96734625]\n",
      "[ 10.13205045   2.97148739]\n",
      "[ 10.12793273   2.97329731]\n",
      "[ 10.1289974   2.9722735]\n",
      "[ 10.13297416   2.97274892]\n",
      "[ 10.12929881   2.97144621]\n",
      "[ 10.13235186   2.97066011]\n",
      "[ 10.12983602   2.97187015]\n",
      "[ 10.12708437   2.97182897]\n",
      "[ 10.13080893   2.97157279]\n",
      "[ 10.13134614   2.97199673]\n",
      "[ 10.13083431   2.9718591 ]\n",
      "[ 10.13180723   2.97156173]\n",
      "[ 10.13032882   2.97179305]\n",
      "[ 10.13030344   2.97150673]\n",
      "[ 10.13003801   2.97133055]\n",
      "[ 10.12982333   2.97172699]\n",
      "[ 10.13056253   2.97161134]\n",
      "[ 10.13053716   2.97132503]\n",
      "[ 10.1303809    2.97167604]\n",
      "[ 10.13012182   2.97157144]\n",
      "[ 10.13045235   2.97160136]\n",
      "[ 10.13052981   2.97177067]\n",
      "[ 10.13036004   2.97157272]\n",
      "[ 10.13043149   2.97149804]\n",
      "[ 10.13039355   2.97163154]\n",
      "[ 10.13030123   2.9716029 ]\n",
      "[ 10.13041457   2.97160175]\n",
      "[ 10.13038106   2.97154292]\n",
      "[ 10.13039043   2.97160939]\n",
      "[ 10.13044496   2.97163841]\n",
      "[ 10.13038127   2.97158914]\n",
      "[ 10.13035712   2.97159678]\n",
      "[ 10.13040021   2.97160051]\n",
      "[ 10.13039105   2.97158026]\n",
      "[ 10.13039058   2.97160211]\n",
      "[ 10.13040953   2.97161347]\n",
      "[ 10.13038833   2.97159522]\n",
      "[ 10.13037871   2.97159682]\n",
      "[ 10.13039483   2.97159959]\n",
      "[ 10.13039258   2.9715927 ]\n",
      "[ 10.13039108   2.97159976]\n",
      "[ 10.13038458   2.97159539]\n",
      "[ 10.13039227   2.97159854]\n",
      "[ 10.13039502   2.97160307]\n",
      "[ 10.13039      2.97159719]\n",
      "[ 10.13039119   2.97159597]\n",
      "[ 10.13039117   2.97159691]\n",
      "[ 10.1303889    2.97159556]\n",
      "[ 10.13039143   2.97159779]\n",
      "[ 10.13039027   2.97159806]\n",
      "[ 10.13038982   2.97159864]\n",
      "[ 10.13038884   2.97159746]\n",
      "[ 10.13039078   2.97159771]\n",
      "[ 10.13039105   2.97159859]\n",
      "[ 10.13039026   2.97159754]\n",
      "[ 10.13039078   2.97159718]\n",
      "[ 10.1303904    2.97159784]\n",
      "[ 10.13038988   2.97159767]\n",
      "[ 10.13039056   2.9715977 ]\n",
      "[ 10.1303901    2.97159768]\n",
      "[ 10.13039022   2.97159768]\n",
      "[ 10.13039033   2.97159769]\n",
      "[ 10.13039041   2.97159762]\n",
      "[ 10.13039035   2.97159746]\n",
      "[ 10.13039033   2.97159763]\n",
      "[ 10.13039019   2.97159755]\n",
      "[ 10.13039036   2.9715976 ]\n",
      "[ 10.1303903    2.97159758]\n",
      "[ 10.13039037   2.97159763]\n",
      "[ 10.13039041   2.97159767]\n",
      "[ 10.13039033   2.97159761]\n",
      "[ 10.13039035   2.97159763]\n",
      "[ 10.13039032   2.97159761]\n",
      "[ 10.13039037   2.97159765]\n",
      "[ 10.1303904    2.97159768]\n",
      "[ 10.13039035   2.97159766]\n",
      "[ 10.13039035   2.97159764]\n",
      "[ 10.13039035   2.97159765]\n",
      "[ 10.13039035   2.97159766]\n",
      "[ 10.13039039   2.97159767]\n",
      "[ 10.13039035   2.97159764]\n",
      "[ 10.13039036   2.97159765]\n",
      "[ 10.13039034   2.97159764]\n",
      "[ 10.13039035   2.97159765]\n",
      "Estimated parameters 10.1303903518,2.97159765069\n"
     ]
    },
    {
     "data": {
      "text/plain": [
       "(-2508.0382775455591, array([ 10.13039035,   2.97159765]))"
      ]
     },
     "execution_count": 19,
     "metadata": {},
     "output_type": "execute_result"
    }
   ],
   "source": [
    "# to test the above infrastracture\n",
    "def test_fit(pdf, fitmethod, parameterlist, lowerbound=neginf, upperbound=inf,):\n",
    "    mu = parameterlist[0]\n",
    "    if len(parameterlist) == 2:\n",
    "        sigma = parameterlist[1]\n",
    "    else:\n",
    "        sigma =1\n",
    "    x = sigma * np.random.randn(1000) + mu \n",
    "    llh, param = fitmethod(x, pdf, parameterlist, lowerbound, upperbound)\n",
    "    print(\"Estimated parameters {0},{1}\".format(param[0],param[1]))\n",
    "    return llh, param\n",
    "\n",
    "\n",
    "test_fit(gausspdf, fitpdf, [10,3]);\n",
    "test_fit(gausspdf, fitpdf2,[10],0,15)"
   ]
  },
  {
   "cell_type": "code",
   "execution_count": null,
   "metadata": {
    "collapsed": true
   },
   "outputs": [],
   "source": [
    "args"
   ]
  },
  {
   "cell_type": "code",
   "execution_count": null,
   "metadata": {
    "collapsed": true
   },
   "outputs": [],
   "source": []
  },
  {
   "cell_type": "code",
   "execution_count": null,
   "metadata": {
    "collapsed": true
   },
   "outputs": [],
   "source": []
  },
  {
   "cell_type": "code",
   "execution_count": null,
   "metadata": {
    "collapsed": true
   },
   "outputs": [],
   "source": [
    "# test 2"
   ]
  },
  {
   "cell_type": "code",
   "execution_count": null,
   "metadata": {
    "collapsed": true
   },
   "outputs": [],
   "source": []
  },
  {
   "cell_type": "code",
   "execution_count": 30,
   "metadata": {
    "collapsed": true
   },
   "outputs": [],
   "source": []
  },
  {
   "cell_type": "code",
   "execution_count": null,
   "metadata": {
    "collapsed": true
   },
   "outputs": [],
   "source": []
  },
  {
   "cell_type": "code",
   "execution_count": null,
   "metadata": {
    "collapsed": true
   },
   "outputs": [],
   "source": []
  },
  {
   "cell_type": "code",
   "execution_count": null,
   "metadata": {
    "collapsed": true
   },
   "outputs": [],
   "source": []
  },
  {
   "cell_type": "code",
   "execution_count": null,
   "metadata": {
    "collapsed": true
   },
   "outputs": [],
   "source": []
  },
  {
   "cell_type": "code",
   "execution_count": null,
   "metadata": {
    "collapsed": true
   },
   "outputs": [],
   "source": []
  },
  {
   "cell_type": "code",
   "execution_count": null,
   "metadata": {
    "collapsed": true
   },
   "outputs": [],
   "source": []
  },
  {
   "cell_type": "code",
   "execution_count": null,
   "metadata": {
    "collapsed": true
   },
   "outputs": [],
   "source": []
  },
  {
   "cell_type": "code",
   "execution_count": null,
   "metadata": {
    "collapsed": true
   },
   "outputs": [],
   "source": []
  },
  {
   "cell_type": "code",
   "execution_count": null,
   "metadata": {
    "collapsed": true
   },
   "outputs": [],
   "source": []
  },
  {
   "cell_type": "code",
   "execution_count": null,
   "metadata": {
    "collapsed": true
   },
   "outputs": [],
   "source": []
  },
  {
   "cell_type": "code",
   "execution_count": null,
   "metadata": {
    "collapsed": true
   },
   "outputs": [],
   "source": []
  },
  {
   "cell_type": "code",
   "execution_count": null,
   "metadata": {
    "collapsed": true
   },
   "outputs": [],
   "source": []
  },
  {
   "cell_type": "code",
   "execution_count": null,
   "metadata": {
    "collapsed": true
   },
   "outputs": [],
   "source": []
  },
  {
   "cell_type": "code",
   "execution_count": null,
   "metadata": {
    "collapsed": true
   },
   "outputs": [],
   "source": []
  }
 ],
 "metadata": {
  "kernelspec": {
   "display_name": "Python 2",
   "name": "python2"
  },
  "language_info": {
   "codemirror_mode": {
    "name": "ipython",
    "version": 2
   },
   "file_extension": ".py",
   "mimetype": "text/x-python",
   "name": "python",
   "nbconvert_exporter": "python",
   "pygments_lexer": "ipython2",
   "version": "2.7.6"
  }
 },
 "nbformat": 4,
 "nbformat_minor": 0
}
